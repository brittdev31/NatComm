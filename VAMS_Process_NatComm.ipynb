{
 "cells": [
  {
   "cell_type": "code",
   "execution_count": null,
   "metadata": {},
   "outputs": [],
   "source": [
    "#Update paths & load required packages\n",
    "path2analysis = '/script_dir/'\n",
    "path2data = '/data_dir/'\n",
    "path2raw = '/raw_csv_data_dir/'\n",
    "path2clean = '/desired_output_dir/'\n",
    "import os, re, sys, decimal, glob, math\n",
    "import numpy as np \n",
    "import seaborn as sns\n",
    "import pandas as pd\n",
    "import matplotlib.pyplot as plt"
   ]
  },
  {
   "cell_type": "code",
   "execution_count": null,
   "metadata": {},
   "outputs": [],
   "source": [
    "#Import all data files\n",
    "##Example file name: 'Gambles_moodratings_subjXXXX_runX.csv'\n",
    "files = ! ls /\"Path to Data Dir\"/\n",
    "\n",
    "df = pd.DataFrame()\n",
    "for file in files:\n",
    "    print(file.split('.')[0].split('_'))\n",
    "    SubjectID = file.split('.')[0].split('_')[2]\n",
    "    RunNum = file.split('.')[0].split('_')[3]\n",
    "    out = pd.read_csv(path2raw + file, header=None)\n",
    "    out['SubjectID'] = SubjectID\n",
    "    out['Run'] = RunNum\n",
    "    df = pd.concat([out, df])"
   ]
  },
  {
   "attachments": {
    "Screen%20Shot%202021-04-05%20at%2010.12.58%20AM.png": {
     "image/png": "[encoded data removed]"
    }
   },
   "cell_type": "markdown",
   "metadata": {},
   "source": [
    "Example raw data output\n",
    "![Screen%20Shot%202021-04-05%20at%2010.12.58%20AM.png](attachment:Screen%20Shot%202021-04-05%20at%2010.12.58%20AM.png)"
   ]
  },
  {
   "cell_type": "code",
   "execution_count": null,
   "metadata": {},
   "outputs": [],
   "source": [
    "#Rename column headers\n",
    "df.columns = [\"Trial\", \"Visit\", \"RawScore\", \"LeftPosition\", \"RightPosition\", \"LeftWord\", \"RightWord\", \"SubjectID\", \"Run\"]"
   ]
  },
  {
   "cell_type": "code",
   "execution_count": null,
   "metadata": {},
   "outputs": [],
   "source": [
    "#Check first ten rows of data for accuracy/completeness\n",
    "df.head(10)"
   ]
  },
  {
   "cell_type": "code",
   "execution_count": null,
   "metadata": {},
   "outputs": [],
   "source": [
    "#Create new variables with both positive and negative scoring (i.e. greater mood_pos = greater positive mood ratings)\n",
    "df = df.reset_index(drop=True)\n",
    "df['mood_pos'] = np.nan\n",
    "df.loc[df.Trial == 1, 'mood_pos'] = df.RawScore\n",
    "df.loc[df.Trial == 2, 'mood_pos'] = 100 - df.RawScore\n",
    "df.loc[df.Trial == 3, 'mood_pos'] = 100 - df.RawScore\n",
    "df.loc[df.Trial == 4, 'mood_pos'] = df.RawScore\n",
    "df.loc[df.Trial == 5, 'mood_pos'] = df.RawScore\n",
    "\n",
    "df['mood_neg'] = np.nan\n",
    "df.loc[df.Trial == 1, 'mood_neg'] = 100 - df.RawScore\n",
    "df.loc[df.Trial == 2, 'mood_neg'] = df.RawScore\n",
    "df.loc[df.Trial == 3, 'mood_neg'] = df.RawScore\n",
    "df.loc[df.Trial == 4, 'mood_neg'] = 100 - df.RawScore\n",
    "df.loc[df.Trial == 5, 'mood_neg'] = 100 - df.RawScore"
   ]
  },
  {
   "cell_type": "code",
   "execution_count": null,
   "metadata": {},
   "outputs": [],
   "source": [
    "#Create average positive and negative mood variables by run\n",
    "df = df.reset_index(drop=True)\n",
    "df['mean_mood_neg_1'] = np.nan\n",
    "df['mean_mood_pos_1'] = np.nan\n",
    "df.loc[df.Run == 'run1', 'mean_mood_neg_1'] = sum(df.mood_neg) / len(df.mood_neg)\n",
    "df.loc[df.Run == 'run1', 'mean_mood_pos_1'] = sum(df.mood_pos) / len(df.mood_pos)\n",
    "\n",
    "df['mean_mood_neg_2'] = np.nan\n",
    "df['mean_mood_pos_2'] = np.nan\n",
    "df.loc[df.Run == 'run2', 'mean_mood_neg_2'] = sum(df.mood_neg) / len(df.mood_neg)\n",
    "df.loc[df.Run == 'run2', 'mean_mood_pos_2'] = sum(df.mood_pos) / len(df.mood_pos)\n",
    "\n",
    "df['mean_mood_neg_3'] = np.nan\n",
    "df['mean_mood_pos_3'] = np.nan\n",
    "df.loc[df.Run == 'run3', 'mean_mood_neg_3'] = sum(df.mood_neg) / len(df.mood_neg)\n",
    "df.loc[df.Run == 'run3', 'mean_mood_pos_3'] = sum(df.mood_pos) / len(df.mood_pos)\n",
    "\n",
    "df['mean_mood_neg_4'] = np.nan\n",
    "df['mean_mood_pos_4'] = np.nan\n",
    "df.loc[df.Run == 'run4', 'mean_mood_neg_4'] = sum(df.mood_neg) / len(df.mood_neg)\n",
    "df.loc[df.Run == 'run4', 'mean_mood_pos_4'] = sum(df.mood_pos) / len(df.mood_pos)\n",
    "\n",
    "df['mean_mood_neg_5'] = np.nan\n",
    "df['mean_mood_pos_5'] = np.nan\n",
    "df.loc[df.Run == 'run5', 'mean_mood_neg_5'] = sum(df.mood_neg) / len(df.mood_neg)\n",
    "df.loc[df.Run == 'run5', 'mean_mood_pos_5'] = sum(df.mood_pos) / len(df.mood_pos)"
   ]
  },
  {
   "cell_type": "code",
   "execution_count": null,
   "metadata": {},
   "outputs": [],
   "source": [
    "#Write data to .xlsx\n",
    "outpath = os.path.join(path2clean, 'vams_clean.xlsx')\n",
    "writer = pd.ExcelWriter(outpath, engine='xlsxwriter')\n",
    "data.to_excel(writer, sheet_name='Sheet1',index = False)\n",
    "writer.save()"
   ]
  }
 ],
 "metadata": {
  "kernelspec": {
   "display_name": "Python 3 (ipykernel)",
   "language": "python",
   "name": "python3"
  },
  "language_info": {
   "codemirror_mode": {
    "name": "ipython",
    "version": 3
   },
   "file_extension": ".py",
   "mimetype": "text/x-python",
   "name": "python",
   "nbconvert_exporter": "python",
   "pygments_lexer": "ipython3",
   "version": "3.9.13"
  }
 },
 "nbformat": 4,
 "nbformat_minor": 4
}
